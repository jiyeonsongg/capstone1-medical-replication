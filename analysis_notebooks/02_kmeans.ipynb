{
 "cells": [
  {
   "cell_type": "markdown",
   "id": "e9f7dbdc",
   "metadata": {},
   "source": [
    "### KMeans Within Four Age Groups "
   ]
  },
  {
   "cell_type": "markdown",
   "id": "21ebbcac",
   "metadata": {},
   "source": [
    "#### Import necessary packages "
   ]
  },
  {
   "cell_type": "code",
   "execution_count": 1,
   "id": "4908df81",
   "metadata": {},
   "outputs": [],
   "source": [
    "import pandas as pd\n",
    "from sklearn.cluster import KMeans"
   ]
  },
  {
   "cell_type": "code",
   "execution_count": 2,
   "id": "55ed6261",
   "metadata": {},
   "outputs": [],
   "source": [
    "import psycopg2"
   ]
  },
  {
   "cell_type": "code",
   "execution_count": 3,
   "id": "f2a11eea",
   "metadata": {},
   "outputs": [],
   "source": [
    "#make sure to change input to connection to ur postgres account \n",
    "conn = psycopg2.connect(\n",
    "    host=\"localhost\",\n",
    "    database=\"mimic\",\n",
    "    user=\"postgress\"\n",
    "#     ,password= [your password], \n",
    "#     port = \"5431\" [port assigned to your db])\n",
    "cursor = conn.cursor()"
   ]
  },
  {
   "cell_type": "code",
   "execution_count": 4,
   "id": "20815a71",
   "metadata": {},
   "outputs": [],
   "source": [
    "sql = \"\"\"\n",
    "SELECT * FROM ELIXHAUSER_MATCH;\n",
    "\"\"\""
   ]
  },
  {
   "cell_type": "markdown",
   "id": "af7b9e99",
   "metadata": {},
   "source": [
    "#### Import CSV file from running the helper_script file \"selected_dataset.sql\" and converting the returned table into a csv"
   ]
  },
  {
   "cell_type": "code",
   "execution_count": 5,
   "id": "4fd78f95",
   "metadata": {
    "scrolled": true
   },
   "outputs": [
    {
     "name": "stderr",
     "output_type": "stream",
     "text": [
      "/var/folders/07/9pcptmds0fl8q4v1tqm04jph0000gn/T/ipykernel_8866/2705657972.py:1: UserWarning: pandas only supports SQLAlchemy connectable (engine/connection) or database string URI or sqlite3 DBAPI2 connection. Other DBAPI2 objects are not tested. Please consider using SQLAlchemy.\n",
      "  merged_table = pd.read_sql_query(sql, conn)\n"
     ]
    }
   ],
   "source": [
    "merged_table = pd.read_sql_query(sql, conn)"
   ]
  },
  {
   "cell_type": "code",
   "execution_count": 6,
   "id": "19cff150",
   "metadata": {},
   "outputs": [],
   "source": [
    "conn.close()"
   ]
  },
  {
   "cell_type": "markdown",
   "id": "f2124028",
   "metadata": {},
   "source": [
    "#### Split up the age groups into 5 different age groups "
   ]
  },
  {
   "cell_type": "code",
   "execution_count": 7,
   "id": "897c1130-02c8-4c0c-8bcb-ac8c5bab2199",
   "metadata": {},
   "outputs": [],
   "source": [
    "age_group_1 = merged_table[(merged_table['rounded_age'] >= 16) &  (merged_table['rounded_age'] < 24)]\n",
    "age_group_2 = merged_table[(merged_table['rounded_age'] >= 24) &  (merged_table['rounded_age'] < 44)]\n",
    "age_group_3 = merged_table[(merged_table['rounded_age'] >= 44) &  (merged_table['rounded_age'] < 64)]\n",
    "age_group_4 = merged_table[(merged_table['rounded_age'] >= 64) &  (merged_table['rounded_age'] < 84)]\n",
    "age_group_5 = merged_table[(merged_table['rounded_age'] >= 84)]"
   ]
  },
  {
   "cell_type": "markdown",
   "id": "bc849075",
   "metadata": {},
   "source": [
    "#### Find the disease prevelance by finding the proportion of the disease in each subgroup"
   ]
  },
  {
   "cell_type": "code",
   "execution_count": 8,
   "id": "003f0ebb",
   "metadata": {},
   "outputs": [],
   "source": [
    "grp_1 = age_group_1.sum()[4:-3]/len(age_group_1)\n",
    "grp_2 = age_group_2.sum()[4:-3]/len(age_group_2)\n",
    "grp_3 = age_group_3.sum()[4:-3]/len(age_group_3)\n",
    "grp_4 = age_group_4.sum()[4:-3]/len(age_group_4)\n",
    "grp_5 = age_group_5.sum()[4:-3]/len(age_group_5)\n"
   ]
  },
  {
   "cell_type": "code",
   "execution_count": 9,
   "id": "0a4ef4ca",
   "metadata": {
    "scrolled": true
   },
   "outputs": [],
   "source": [
    "disease_prevelance = pd.DataFrame({'group_1': grp_1, 'group_2': grp_2, 'group_3': grp_3, 'group_4': grp_4, 'group_5': grp_5})"
   ]
  },
  {
   "cell_type": "markdown",
   "id": "cd7cf767",
   "metadata": {},
   "source": [
    "#### Run the KMeans algorithm on the dataset"
   ]
  },
  {
   "cell_type": "code",
   "execution_count": 16,
   "id": "67066edc-799a-40f2-a3b4-9424890a0c16",
   "metadata": {
    "scrolled": true
   },
   "outputs": [
    {
     "name": "stderr",
     "output_type": "stream",
     "text": [
      "/Users/rihanamohamed/anaconda3/lib/python3.11/site-packages/sklearn/cluster/_kmeans.py:1412: FutureWarning: The default value of `n_init` will change from 10 to 'auto' in 1.4. Set the value of `n_init` explicitly to suppress the warning\n",
      "  super()._check_params_vs_input(X, default_n_init=10)\n",
      "/Users/rihanamohamed/anaconda3/lib/python3.11/site-packages/sklearn/cluster/_kmeans.py:1412: FutureWarning: The default value of `n_init` will change from 10 to 'auto' in 1.4. Set the value of `n_init` explicitly to suppress the warning\n",
      "  super()._check_params_vs_input(X, default_n_init=10)\n"
     ]
    }
   ],
   "source": [
    "kmeans = KMeans(n_clusters = 3)\n",
    "kmeans.fit(disease_prevelance)\n",
    "clusters = kmeans.fit_predict(disease_prevelance)\n",
    "\n",
    "# dict to store clusters data\n",
    "cluster_dict=[]\n",
    "for c in clusters:\n",
    "    cluster_dict.append(c)\n",
    "\n",
    "# prints the cluster dict\n",
    "disease_prevelance['cluster'] = cluster_dict"
   ]
  },
  {
   "cell_type": "markdown",
   "id": "368ac5b0",
   "metadata": {},
   "source": [
    "#### Cluster 0"
   ]
  },
  {
   "cell_type": "code",
   "execution_count": 17,
   "id": "886eac49-c4ed-4b02-9f70-d31a94bd5d31",
   "metadata": {
    "scrolled": true
   },
   "outputs": [
    {
     "data": {
      "text/html": [
       "<div>\n",
       "<style scoped>\n",
       "    .dataframe tbody tr th:only-of-type {\n",
       "        vertical-align: middle;\n",
       "    }\n",
       "\n",
       "    .dataframe tbody tr th {\n",
       "        vertical-align: top;\n",
       "    }\n",
       "\n",
       "    .dataframe thead th {\n",
       "        text-align: right;\n",
       "    }\n",
       "</style>\n",
       "<table border=\"1\" class=\"dataframe\">\n",
       "  <thead>\n",
       "    <tr style=\"text-align: right;\">\n",
       "      <th></th>\n",
       "      <th>group_1</th>\n",
       "      <th>group_2</th>\n",
       "      <th>group_3</th>\n",
       "      <th>group_4</th>\n",
       "      <th>group_5</th>\n",
       "      <th>cluster</th>\n",
       "    </tr>\n",
       "  </thead>\n",
       "  <tbody>\n",
       "    <tr>\n",
       "      <th>pulmonary_circulation</th>\n",
       "      <td>0.018595</td>\n",
       "      <td>0.034584</td>\n",
       "      <td>0.051233</td>\n",
       "      <td>0.065666</td>\n",
       "      <td>0.082786</td>\n",
       "      <td>0</td>\n",
       "    </tr>\n",
       "    <tr>\n",
       "      <th>peripheral_vascular</th>\n",
       "      <td>0.012397</td>\n",
       "      <td>0.021189</td>\n",
       "      <td>0.052658</td>\n",
       "      <td>0.107019</td>\n",
       "      <td>0.097313</td>\n",
       "      <td>0</td>\n",
       "    </tr>\n",
       "    <tr>\n",
       "      <th>paralysis</th>\n",
       "      <td>0.014463</td>\n",
       "      <td>0.027521</td>\n",
       "      <td>0.027754</td>\n",
       "      <td>0.026345</td>\n",
       "      <td>0.029453</td>\n",
       "      <td>0</td>\n",
       "    </tr>\n",
       "    <tr>\n",
       "      <th>other_neurological</th>\n",
       "      <td>0.089876</td>\n",
       "      <td>0.122991</td>\n",
       "      <td>0.110096</td>\n",
       "      <td>0.093584</td>\n",
       "      <td>0.103284</td>\n",
       "      <td>0</td>\n",
       "    </tr>\n",
       "    <tr>\n",
       "      <th>diabetes_complicated</th>\n",
       "      <td>0.007231</td>\n",
       "      <td>0.033609</td>\n",
       "      <td>0.058779</td>\n",
       "      <td>0.064618</td>\n",
       "      <td>0.038806</td>\n",
       "      <td>0</td>\n",
       "    </tr>\n",
       "    <tr>\n",
       "      <th>hypothyroidism</th>\n",
       "      <td>0.009298</td>\n",
       "      <td>0.040429</td>\n",
       "      <td>0.073118</td>\n",
       "      <td>0.110623</td>\n",
       "      <td>0.161791</td>\n",
       "      <td>0</td>\n",
       "    </tr>\n",
       "    <tr>\n",
       "      <th>liver_disease</th>\n",
       "      <td>0.050620</td>\n",
       "      <td>0.116415</td>\n",
       "      <td>0.150344</td>\n",
       "      <td>0.059571</td>\n",
       "      <td>0.027861</td>\n",
       "      <td>0</td>\n",
       "    </tr>\n",
       "    <tr>\n",
       "      <th>peptic_ulcer</th>\n",
       "      <td>0.004132</td>\n",
       "      <td>0.004384</td>\n",
       "      <td>0.008553</td>\n",
       "      <td>0.008651</td>\n",
       "      <td>0.011144</td>\n",
       "      <td>0</td>\n",
       "    </tr>\n",
       "    <tr>\n",
       "      <th>aids</th>\n",
       "      <td>0.000000</td>\n",
       "      <td>0.013151</td>\n",
       "      <td>0.011488</td>\n",
       "      <td>0.001049</td>\n",
       "      <td>0.000398</td>\n",
       "      <td>0</td>\n",
       "    </tr>\n",
       "    <tr>\n",
       "      <th>lymphoma</th>\n",
       "      <td>0.001033</td>\n",
       "      <td>0.010960</td>\n",
       "      <td>0.010565</td>\n",
       "      <td>0.015466</td>\n",
       "      <td>0.013333</td>\n",
       "      <td>0</td>\n",
       "    </tr>\n",
       "    <tr>\n",
       "      <th>metastatic_cancer</th>\n",
       "      <td>0.003099</td>\n",
       "      <td>0.025329</td>\n",
       "      <td>0.066577</td>\n",
       "      <td>0.060948</td>\n",
       "      <td>0.037214</td>\n",
       "      <td>0</td>\n",
       "    </tr>\n",
       "    <tr>\n",
       "      <th>solid_tumor</th>\n",
       "      <td>0.001033</td>\n",
       "      <td>0.006576</td>\n",
       "      <td>0.025910</td>\n",
       "      <td>0.036569</td>\n",
       "      <td>0.030448</td>\n",
       "      <td>0</td>\n",
       "    </tr>\n",
       "    <tr>\n",
       "      <th>rheumatoid_arthritis</th>\n",
       "      <td>0.008264</td>\n",
       "      <td>0.016318</td>\n",
       "      <td>0.025071</td>\n",
       "      <td>0.037093</td>\n",
       "      <td>0.039801</td>\n",
       "      <td>0</td>\n",
       "    </tr>\n",
       "    <tr>\n",
       "      <th>coagulopathy</th>\n",
       "      <td>0.052686</td>\n",
       "      <td>0.099854</td>\n",
       "      <td>0.112947</td>\n",
       "      <td>0.103480</td>\n",
       "      <td>0.091741</td>\n",
       "      <td>0</td>\n",
       "    </tr>\n",
       "    <tr>\n",
       "      <th>obesity</th>\n",
       "      <td>0.013430</td>\n",
       "      <td>0.049927</td>\n",
       "      <td>0.073201</td>\n",
       "      <td>0.048103</td>\n",
       "      <td>0.007761</td>\n",
       "      <td>0</td>\n",
       "    </tr>\n",
       "    <tr>\n",
       "      <th>weight_loss</th>\n",
       "      <td>0.012397</td>\n",
       "      <td>0.027277</td>\n",
       "      <td>0.038236</td>\n",
       "      <td>0.039059</td>\n",
       "      <td>0.042985</td>\n",
       "      <td>0</td>\n",
       "    </tr>\n",
       "    <tr>\n",
       "      <th>blood_loss_anemia</th>\n",
       "      <td>0.004132</td>\n",
       "      <td>0.009985</td>\n",
       "      <td>0.017441</td>\n",
       "      <td>0.019988</td>\n",
       "      <td>0.024876</td>\n",
       "      <td>0</td>\n",
       "    </tr>\n",
       "    <tr>\n",
       "      <th>deficiency_anemias</th>\n",
       "      <td>0.022727</td>\n",
       "      <td>0.028008</td>\n",
       "      <td>0.020963</td>\n",
       "      <td>0.022413</td>\n",
       "      <td>0.041592</td>\n",
       "      <td>0</td>\n",
       "    </tr>\n",
       "    <tr>\n",
       "      <th>alcohol_abuse</th>\n",
       "      <td>0.170455</td>\n",
       "      <td>0.167560</td>\n",
       "      <td>0.138269</td>\n",
       "      <td>0.041156</td>\n",
       "      <td>0.007363</td>\n",
       "      <td>0</td>\n",
       "    </tr>\n",
       "  </tbody>\n",
       "</table>\n",
       "</div>"
      ],
      "text/plain": [
       "                        group_1   group_2   group_3   group_4   group_5  \\\n",
       "pulmonary_circulation  0.018595  0.034584  0.051233  0.065666  0.082786   \n",
       "peripheral_vascular    0.012397  0.021189  0.052658  0.107019  0.097313   \n",
       "paralysis              0.014463  0.027521  0.027754  0.026345  0.029453   \n",
       "other_neurological     0.089876  0.122991  0.110096  0.093584  0.103284   \n",
       "diabetes_complicated   0.007231  0.033609  0.058779  0.064618  0.038806   \n",
       "hypothyroidism         0.009298  0.040429  0.073118  0.110623  0.161791   \n",
       "liver_disease          0.050620  0.116415  0.150344  0.059571  0.027861   \n",
       "peptic_ulcer           0.004132  0.004384  0.008553  0.008651  0.011144   \n",
       "aids                   0.000000  0.013151  0.011488  0.001049  0.000398   \n",
       "lymphoma               0.001033  0.010960  0.010565  0.015466  0.013333   \n",
       "metastatic_cancer      0.003099  0.025329  0.066577  0.060948  0.037214   \n",
       "solid_tumor            0.001033  0.006576  0.025910  0.036569  0.030448   \n",
       "rheumatoid_arthritis   0.008264  0.016318  0.025071  0.037093  0.039801   \n",
       "coagulopathy           0.052686  0.099854  0.112947  0.103480  0.091741   \n",
       "obesity                0.013430  0.049927  0.073201  0.048103  0.007761   \n",
       "weight_loss            0.012397  0.027277  0.038236  0.039059  0.042985   \n",
       "blood_loss_anemia      0.004132  0.009985  0.017441  0.019988  0.024876   \n",
       "deficiency_anemias     0.022727  0.028008  0.020963  0.022413  0.041592   \n",
       "alcohol_abuse          0.170455  0.167560  0.138269  0.041156  0.007363   \n",
       "\n",
       "                       cluster  \n",
       "pulmonary_circulation        0  \n",
       "peripheral_vascular          0  \n",
       "paralysis                    0  \n",
       "other_neurological           0  \n",
       "diabetes_complicated         0  \n",
       "hypothyroidism               0  \n",
       "liver_disease                0  \n",
       "peptic_ulcer                 0  \n",
       "aids                         0  \n",
       "lymphoma                     0  \n",
       "metastatic_cancer            0  \n",
       "solid_tumor                  0  \n",
       "rheumatoid_arthritis         0  \n",
       "coagulopathy                 0  \n",
       "obesity                      0  \n",
       "weight_loss                  0  \n",
       "blood_loss_anemia            0  \n",
       "deficiency_anemias           0  \n",
       "alcohol_abuse                0  "
      ]
     },
     "execution_count": 17,
     "metadata": {},
     "output_type": "execute_result"
    }
   ],
   "source": [
    "disease_prevelance[disease_prevelance['cluster'] == 0]"
   ]
  },
  {
   "cell_type": "markdown",
   "id": "5116a08f",
   "metadata": {},
   "source": [
    "#### Cluster 1"
   ]
  },
  {
   "cell_type": "code",
   "execution_count": 18,
   "id": "f2ba3ce5",
   "metadata": {
    "scrolled": true
   },
   "outputs": [
    {
     "data": {
      "text/html": [
       "<div>\n",
       "<style scoped>\n",
       "    .dataframe tbody tr th:only-of-type {\n",
       "        vertical-align: middle;\n",
       "    }\n",
       "\n",
       "    .dataframe tbody tr th {\n",
       "        vertical-align: top;\n",
       "    }\n",
       "\n",
       "    .dataframe thead th {\n",
       "        text-align: right;\n",
       "    }\n",
       "</style>\n",
       "<table border=\"1\" class=\"dataframe\">\n",
       "  <thead>\n",
       "    <tr style=\"text-align: right;\">\n",
       "      <th></th>\n",
       "      <th>group_1</th>\n",
       "      <th>group_2</th>\n",
       "      <th>group_3</th>\n",
       "      <th>group_4</th>\n",
       "      <th>group_5</th>\n",
       "      <th>cluster</th>\n",
       "    </tr>\n",
       "  </thead>\n",
       "  <tbody>\n",
       "    <tr>\n",
       "      <th>congestive_heart_failure</th>\n",
       "      <td>0.027893</td>\n",
       "      <td>0.064540</td>\n",
       "      <td>0.156046</td>\n",
       "      <td>0.297923</td>\n",
       "      <td>0.431841</td>\n",
       "      <td>1</td>\n",
       "    </tr>\n",
       "    <tr>\n",
       "      <th>valvular_disease</th>\n",
       "      <td>0.015496</td>\n",
       "      <td>0.034096</td>\n",
       "      <td>0.070937</td>\n",
       "      <td>0.139131</td>\n",
       "      <td>0.187264</td>\n",
       "      <td>1</td>\n",
       "    </tr>\n",
       "    <tr>\n",
       "      <th>chronic_pulmonary</th>\n",
       "      <td>0.078512</td>\n",
       "      <td>0.106917</td>\n",
       "      <td>0.170803</td>\n",
       "      <td>0.246805</td>\n",
       "      <td>0.222090</td>\n",
       "      <td>1</td>\n",
       "    </tr>\n",
       "    <tr>\n",
       "      <th>diabetes_uncomplicated</th>\n",
       "      <td>0.013430</td>\n",
       "      <td>0.063322</td>\n",
       "      <td>0.178518</td>\n",
       "      <td>0.247264</td>\n",
       "      <td>0.191841</td>\n",
       "      <td>1</td>\n",
       "    </tr>\n",
       "    <tr>\n",
       "      <th>renal_failure</th>\n",
       "      <td>0.014463</td>\n",
       "      <td>0.042864</td>\n",
       "      <td>0.085444</td>\n",
       "      <td>0.150141</td>\n",
       "      <td>0.203980</td>\n",
       "      <td>1</td>\n",
       "    </tr>\n",
       "    <tr>\n",
       "      <th>fluid_electrolyte</th>\n",
       "      <td>0.176653</td>\n",
       "      <td>0.263517</td>\n",
       "      <td>0.271088</td>\n",
       "      <td>0.283832</td>\n",
       "      <td>0.336517</td>\n",
       "      <td>1</td>\n",
       "    </tr>\n",
       "  </tbody>\n",
       "</table>\n",
       "</div>"
      ],
      "text/plain": [
       "                           group_1   group_2   group_3   group_4   group_5  \\\n",
       "congestive_heart_failure  0.027893  0.064540  0.156046  0.297923  0.431841   \n",
       "valvular_disease          0.015496  0.034096  0.070937  0.139131  0.187264   \n",
       "chronic_pulmonary         0.078512  0.106917  0.170803  0.246805  0.222090   \n",
       "diabetes_uncomplicated    0.013430  0.063322  0.178518  0.247264  0.191841   \n",
       "renal_failure             0.014463  0.042864  0.085444  0.150141  0.203980   \n",
       "fluid_electrolyte         0.176653  0.263517  0.271088  0.283832  0.336517   \n",
       "\n",
       "                          cluster  \n",
       "congestive_heart_failure        1  \n",
       "valvular_disease                1  \n",
       "chronic_pulmonary               1  \n",
       "diabetes_uncomplicated          1  \n",
       "renal_failure                   1  \n",
       "fluid_electrolyte               1  "
      ]
     },
     "execution_count": 18,
     "metadata": {},
     "output_type": "execute_result"
    }
   ],
   "source": [
    "disease_prevelance[disease_prevelance['cluster'] == 1]"
   ]
  },
  {
   "cell_type": "markdown",
   "id": "33fed7c7",
   "metadata": {},
   "source": [
    "#### Cluster 2"
   ]
  },
  {
   "cell_type": "code",
   "execution_count": 19,
   "id": "61f04c4b",
   "metadata": {},
   "outputs": [
    {
     "data": {
      "text/html": [
       "<div>\n",
       "<style scoped>\n",
       "    .dataframe tbody tr th:only-of-type {\n",
       "        vertical-align: middle;\n",
       "    }\n",
       "\n",
       "    .dataframe tbody tr th {\n",
       "        vertical-align: top;\n",
       "    }\n",
       "\n",
       "    .dataframe thead th {\n",
       "        text-align: right;\n",
       "    }\n",
       "</style>\n",
       "<table border=\"1\" class=\"dataframe\">\n",
       "  <thead>\n",
       "    <tr style=\"text-align: right;\">\n",
       "      <th></th>\n",
       "      <th>group_1</th>\n",
       "      <th>group_2</th>\n",
       "      <th>group_3</th>\n",
       "      <th>group_4</th>\n",
       "      <th>group_5</th>\n",
       "      <th>cluster</th>\n",
       "    </tr>\n",
       "  </thead>\n",
       "  <tbody>\n",
       "    <tr>\n",
       "      <th>cardiac_arrhythmias</th>\n",
       "      <td>0.091942</td>\n",
       "      <td>0.116659</td>\n",
       "      <td>0.213902</td>\n",
       "      <td>0.438364</td>\n",
       "      <td>0.566965</td>\n",
       "      <td>2</td>\n",
       "    </tr>\n",
       "    <tr>\n",
       "      <th>hypertension</th>\n",
       "      <td>0.035124</td>\n",
       "      <td>0.187043</td>\n",
       "      <td>0.476103</td>\n",
       "      <td>0.655023</td>\n",
       "      <td>0.683781</td>\n",
       "      <td>2</td>\n",
       "    </tr>\n",
       "  </tbody>\n",
       "</table>\n",
       "</div>"
      ],
      "text/plain": [
       "                      group_1   group_2   group_3   group_4   group_5  cluster\n",
       "cardiac_arrhythmias  0.091942  0.116659  0.213902  0.438364  0.566965        2\n",
       "hypertension         0.035124  0.187043  0.476103  0.655023  0.683781        2"
      ]
     },
     "execution_count": 19,
     "metadata": {},
     "output_type": "execute_result"
    }
   ],
   "source": [
    "disease_prevelance[disease_prevelance['cluster'] == 2]"
   ]
  },
  {
   "cell_type": "code",
   "execution_count": null,
   "id": "2e109b1d",
   "metadata": {},
   "outputs": [],
   "source": []
  }
 ],
 "metadata": {
  "kernelspec": {
   "display_name": "Python 3 (ipykernel)",
   "language": "python",
   "name": "python3"
  },
  "language_info": {
   "codemirror_mode": {
    "name": "ipython",
    "version": 3
   },
   "file_extension": ".py",
   "mimetype": "text/x-python",
   "name": "python",
   "nbconvert_exporter": "python",
   "pygments_lexer": "ipython3",
   "version": "3.11.5"
  }
 },
 "nbformat": 4,
 "nbformat_minor": 5
}
