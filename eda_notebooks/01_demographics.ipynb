{
 "cells": [
  {
   "cell_type": "markdown",
   "metadata": {},
   "source": [
    "## Patient Demographics \n",
    "- In this notebook we look at some characteristics of our patient cohort. "
   ]
  },
  {
   "cell_type": "code",
   "execution_count": 73,
   "metadata": {},
   "outputs": [],
   "source": [
    "import psycopg2\n",
    "import pandas as pd\n",
    "from scipy import stats\n",
    "import matplotlib.pyplot as plt"
   ]
  },
  {
   "cell_type": "code",
   "execution_count": 3,
   "metadata": {},
   "outputs": [],
   "source": [
    "#Make sure to update inputs to match your Postgres server\n",
    "conn = psycopg2.connect(\n",
    "    host=\"localhost\",\n",
    "    database=\"mimic\",\n",
    "    user=\"postgres\"\n",
    "    #, password = [your password], \n",
    "    # port = 5431 [change to postgres port]\n",
    ")\n",
    "\n",
    "cursor = conn.cursor()"
   ]
  },
  {
   "cell_type": "code",
   "execution_count": 11,
   "metadata": {},
   "outputs": [
    {
     "name": "stderr",
     "output_type": "stream",
     "text": [
      "/var/folders/48/vk7lyccx60x4918_6lqc64fw0000gn/T/ipykernel_94727/3643645611.py:1: UserWarning: pandas only supports SQLAlchemy connectable (engine/connection) or database string URI or sqlite3 DBAPI2 connection. Other DBAPI2 objects are not tested. Please consider using SQLAlchemy.\n",
      "  df = pd.read_sql_query('''select * from elixhauser_match;''', conn)\n"
     ]
    },
    {
     "data": {
      "text/html": [
       "<div>\n",
       "<style scoped>\n",
       "    .dataframe tbody tr th:only-of-type {\n",
       "        vertical-align: middle;\n",
       "    }\n",
       "\n",
       "    .dataframe tbody tr th {\n",
       "        vertical-align: top;\n",
       "    }\n",
       "\n",
       "    .dataframe thead th {\n",
       "        text-align: right;\n",
       "    }\n",
       "</style>\n",
       "<table border=\"1\" class=\"dataframe\">\n",
       "  <thead>\n",
       "    <tr style=\"text-align: right;\">\n",
       "      <th></th>\n",
       "      <th>subject_id</th>\n",
       "      <th>hadm_id</th>\n",
       "      <th>rounded_age</th>\n",
       "      <th>admission_type_encoded</th>\n",
       "      <th>congestive_heart_failure</th>\n",
       "      <th>cardiac_arrhythmias</th>\n",
       "      <th>valvular_disease</th>\n",
       "      <th>pulmonary_circulation</th>\n",
       "      <th>peripheral_vascular</th>\n",
       "      <th>hypertension</th>\n",
       "      <th>...</th>\n",
       "      <th>coagulopathy</th>\n",
       "      <th>obesity</th>\n",
       "      <th>weight_loss</th>\n",
       "      <th>fluid_electrolyte</th>\n",
       "      <th>blood_loss_anemia</th>\n",
       "      <th>deficiency_anemias</th>\n",
       "      <th>alcohol_abuse</th>\n",
       "      <th>drug_abuse</th>\n",
       "      <th>psychoses</th>\n",
       "      <th>depression</th>\n",
       "    </tr>\n",
       "  </thead>\n",
       "  <tbody>\n",
       "    <tr>\n",
       "      <th>0</th>\n",
       "      <td>58526</td>\n",
       "      <td>100001</td>\n",
       "      <td>35.0</td>\n",
       "      <td>1</td>\n",
       "      <td>0</td>\n",
       "      <td>0</td>\n",
       "      <td>0</td>\n",
       "      <td>0</td>\n",
       "      <td>0</td>\n",
       "      <td>1</td>\n",
       "      <td>...</td>\n",
       "      <td>0</td>\n",
       "      <td>0</td>\n",
       "      <td>0</td>\n",
       "      <td>0</td>\n",
       "      <td>0</td>\n",
       "      <td>0</td>\n",
       "      <td>0</td>\n",
       "      <td>0</td>\n",
       "      <td>0</td>\n",
       "      <td>0</td>\n",
       "    </tr>\n",
       "    <tr>\n",
       "      <th>1</th>\n",
       "      <td>54610</td>\n",
       "      <td>100003</td>\n",
       "      <td>60.0</td>\n",
       "      <td>1</td>\n",
       "      <td>0</td>\n",
       "      <td>0</td>\n",
       "      <td>0</td>\n",
       "      <td>0</td>\n",
       "      <td>0</td>\n",
       "      <td>1</td>\n",
       "      <td>...</td>\n",
       "      <td>0</td>\n",
       "      <td>0</td>\n",
       "      <td>0</td>\n",
       "      <td>0</td>\n",
       "      <td>0</td>\n",
       "      <td>0</td>\n",
       "      <td>0</td>\n",
       "      <td>0</td>\n",
       "      <td>0</td>\n",
       "      <td>0</td>\n",
       "    </tr>\n",
       "    <tr>\n",
       "      <th>2</th>\n",
       "      <td>9895</td>\n",
       "      <td>100006</td>\n",
       "      <td>49.0</td>\n",
       "      <td>1</td>\n",
       "      <td>0</td>\n",
       "      <td>1</td>\n",
       "      <td>0</td>\n",
       "      <td>0</td>\n",
       "      <td>0</td>\n",
       "      <td>0</td>\n",
       "      <td>...</td>\n",
       "      <td>0</td>\n",
       "      <td>0</td>\n",
       "      <td>0</td>\n",
       "      <td>1</td>\n",
       "      <td>0</td>\n",
       "      <td>0</td>\n",
       "      <td>0</td>\n",
       "      <td>0</td>\n",
       "      <td>0</td>\n",
       "      <td>1</td>\n",
       "    </tr>\n",
       "    <tr>\n",
       "      <th>3</th>\n",
       "      <td>23018</td>\n",
       "      <td>100007</td>\n",
       "      <td>74.0</td>\n",
       "      <td>1</td>\n",
       "      <td>0</td>\n",
       "      <td>0</td>\n",
       "      <td>0</td>\n",
       "      <td>0</td>\n",
       "      <td>0</td>\n",
       "      <td>1</td>\n",
       "      <td>...</td>\n",
       "      <td>0</td>\n",
       "      <td>0</td>\n",
       "      <td>0</td>\n",
       "      <td>0</td>\n",
       "      <td>0</td>\n",
       "      <td>0</td>\n",
       "      <td>0</td>\n",
       "      <td>0</td>\n",
       "      <td>0</td>\n",
       "      <td>0</td>\n",
       "    </tr>\n",
       "    <tr>\n",
       "      <th>4</th>\n",
       "      <td>533</td>\n",
       "      <td>100009</td>\n",
       "      <td>61.0</td>\n",
       "      <td>1</td>\n",
       "      <td>0</td>\n",
       "      <td>1</td>\n",
       "      <td>0</td>\n",
       "      <td>0</td>\n",
       "      <td>1</td>\n",
       "      <td>1</td>\n",
       "      <td>...</td>\n",
       "      <td>0</td>\n",
       "      <td>1</td>\n",
       "      <td>0</td>\n",
       "      <td>0</td>\n",
       "      <td>0</td>\n",
       "      <td>0</td>\n",
       "      <td>0</td>\n",
       "      <td>0</td>\n",
       "      <td>0</td>\n",
       "      <td>0</td>\n",
       "    </tr>\n",
       "  </tbody>\n",
       "</table>\n",
       "<p>5 rows × 34 columns</p>\n",
       "</div>"
      ],
      "text/plain": [
       "   subject_id  hadm_id  rounded_age  admission_type_encoded  \\\n",
       "0       58526   100001         35.0                       1   \n",
       "1       54610   100003         60.0                       1   \n",
       "2        9895   100006         49.0                       1   \n",
       "3       23018   100007         74.0                       1   \n",
       "4         533   100009         61.0                       1   \n",
       "\n",
       "   congestive_heart_failure  cardiac_arrhythmias  valvular_disease  \\\n",
       "0                         0                    0                 0   \n",
       "1                         0                    0                 0   \n",
       "2                         0                    1                 0   \n",
       "3                         0                    0                 0   \n",
       "4                         0                    1                 0   \n",
       "\n",
       "   pulmonary_circulation  peripheral_vascular  hypertension  ...  \\\n",
       "0                      0                    0             1  ...   \n",
       "1                      0                    0             1  ...   \n",
       "2                      0                    0             0  ...   \n",
       "3                      0                    0             1  ...   \n",
       "4                      0                    1             1  ...   \n",
       "\n",
       "   coagulopathy  obesity  weight_loss  fluid_electrolyte  blood_loss_anemia  \\\n",
       "0             0        0            0                  0                  0   \n",
       "1             0        0            0                  0                  0   \n",
       "2             0        0            0                  1                  0   \n",
       "3             0        0            0                  0                  0   \n",
       "4             0        1            0                  0                  0   \n",
       "\n",
       "   deficiency_anemias  alcohol_abuse  drug_abuse  psychoses  depression  \n",
       "0                   0              0           0          0           0  \n",
       "1                   0              0           0          0           0  \n",
       "2                   0              0           0          0           1  \n",
       "3                   0              0           0          0           0  \n",
       "4                   0              0           0          0           0  \n",
       "\n",
       "[5 rows x 34 columns]"
      ]
     },
     "execution_count": 11,
     "metadata": {},
     "output_type": "execute_result"
    }
   ],
   "source": [
    "#Loading in data\n",
    "df = pd.read_sql_query('''select * from elixhauser_match;''', conn)\n",
    "df.head()\n"
   ]
  },
  {
   "cell_type": "code",
   "execution_count": 10,
   "metadata": {},
   "outputs": [
    {
     "data": {
      "text/plain": [
       "(37284, 34)"
      ]
     },
     "execution_count": 10,
     "metadata": {},
     "output_type": "execute_result"
    }
   ],
   "source": [
    "#looking at dimensions\n",
    "df.shape"
   ]
  },
  {
   "cell_type": "code",
   "execution_count": 24,
   "metadata": {},
   "outputs": [],
   "source": [
    "#Adding morbidity count for each patient\n",
    "df['morbidity_sum'] = 0\n",
    "for morb in df.columns[4:]:\n",
    "    df['morbidity_sum'] += df[morb]"
   ]
  },
  {
   "cell_type": "code",
   "execution_count": 26,
   "metadata": {},
   "outputs": [],
   "source": [
    "#Add age grouping column\n",
    "def get_age_bracket(age):\n",
    "    if age in range(16, 25):\n",
    "        return 1\n",
    "    elif age in range(25, 45):\n",
    "        return 2\n",
    "    elif age in range(45, 65):\n",
    "        return 3\n",
    "    elif age in range(65, 85):\n",
    "        return 4\n",
    "    else:\n",
    "        return 5\n",
    "\n",
    "\n",
    "df['age_bracket'] = df['rounded_age'].apply(get_age_bracket)\n"
   ]
  },
  {
   "cell_type": "code",
   "execution_count": 65,
   "metadata": {},
   "outputs": [],
   "source": [
    "#Function to calculate confidence intervals\n",
    "def calculate_confidence_interval(dataframe, column_name, confidence=0.95):\n",
    "    column_data = dataframe[column_name]\n",
    "    \n",
    "    # Calculate mean and standard deviation\n",
    "    mean_value = column_data.mean()\n",
    "    std_dev = column_data.std()\n",
    "\n",
    "    # Calculate the standard error of the mean\n",
    "    std_error = std_dev / (len(column_data) ** 0.5)\n",
    "\n",
    "    # Calculate the confidence interval using t-distribution\n",
    "    confidence_interval = stats.t.interval(confidence, len(column_data) - 1, loc=mean_value, scale=std_error)\n",
    "\n",
    "    return confidence_interval"
   ]
  },
  {
   "cell_type": "code",
   "execution_count": 48,
   "metadata": {},
   "outputs": [],
   "source": [
    "#Creating tables for calculating CIs\n",
    "age_1 = df[df['age_bracket']==1]\n",
    "age_2 = df[df['age_bracket']==2]\n",
    "age_3 = df[df['age_bracket']==3]\n",
    "age_4 = df[df['age_bracket']==4]\n",
    "age_5 = df[df['age_bracket']==5]\n",
    "\n",
    "emergency = df[df['admission_type_encoded']==1]\n",
    "elective = df[df['admission_type_encoded']==0]"
   ]
  },
  {
   "cell_type": "markdown",
   "metadata": {},
   "source": [
    "Looking at the admission types of our patient cohort we can see that majority of the admissions were emergency (encoded by 1). This is expected as most admissions into the ICU are non-elective."
   ]
  },
  {
   "cell_type": "code",
   "execution_count": 51,
   "metadata": {},
   "outputs": [
    {
     "data": {
      "text/html": [
       "<div>\n",
       "<style scoped>\n",
       "    .dataframe tbody tr th:only-of-type {\n",
       "        vertical-align: middle;\n",
       "    }\n",
       "\n",
       "    .dataframe tbody tr th {\n",
       "        vertical-align: top;\n",
       "    }\n",
       "\n",
       "    .dataframe thead th {\n",
       "        text-align: right;\n",
       "    }\n",
       "</style>\n",
       "<table border=\"1\" class=\"dataframe\">\n",
       "  <thead>\n",
       "    <tr style=\"text-align: right;\">\n",
       "      <th></th>\n",
       "      <th>subject_id</th>\n",
       "      <th>Percent</th>\n",
       "    </tr>\n",
       "    <tr>\n",
       "      <th>admission_type_encoded</th>\n",
       "      <th></th>\n",
       "      <th></th>\n",
       "    </tr>\n",
       "  </thead>\n",
       "  <tbody>\n",
       "    <tr>\n",
       "      <th>0</th>\n",
       "      <td>6034</td>\n",
       "      <td>16.18</td>\n",
       "    </tr>\n",
       "    <tr>\n",
       "      <th>1</th>\n",
       "      <td>31250</td>\n",
       "      <td>83.82</td>\n",
       "    </tr>\n",
       "  </tbody>\n",
       "</table>\n",
       "</div>"
      ],
      "text/plain": [
       "                        subject_id  Percent\n",
       "admission_type_encoded                     \n",
       "0                             6034    16.18\n",
       "1                            31250    83.82"
      ]
     },
     "execution_count": 51,
     "metadata": {},
     "output_type": "execute_result"
    }
   ],
   "source": [
    "subtable_1 = df.groupby('admission_type_encoded').count().drop(columns={'hadm_id', 'rounded_age',\n",
    "       'congestive_heart_failure', 'cardiac_arrhythmias',\n",
    "       'valvular_disease', 'pulmonary_circulation', 'peripheral_vascular',\n",
    "       'hypertension', 'paralysis', 'other_neurological',\n",
    "       'chronic_pulmonary', 'diabetes_uncomplicated',\n",
    "       'diabetes_complicated', 'hypothyroidism', 'renal_failure',\n",
    "       'liver_disease', 'peptic_ulcer', 'aids', 'lymphoma',\n",
    "       'metastatic_cancer', 'solid_tumor', 'rheumatoid_arthritis',\n",
    "       'coagulopathy', 'obesity', 'weight_loss', 'fluid_electrolyte',\n",
    "       'blood_loss_anemia', 'deficiency_anemias', 'alcohol_abuse',\n",
    "       'drug_abuse', 'psychoses', 'depression', 'morbidity_sum',\n",
    "       'age_bracket'}, axis=1)\n",
    "\n",
    "subtable_1['Percent'] = round((subtable_1.subject_id/df.shape[0])*100, 2)\n",
    "subtable_1"
   ]
  },
  {
   "cell_type": "code",
   "execution_count": 72,
   "metadata": {},
   "outputs": [
    {
     "name": "stdout",
     "output_type": "stream",
     "text": [
      "emergency: (6.336502798068705, 6.4265052019312945)\n",
      "elective: (5.509462023591574, 5.6904053943732915)\n"
     ]
    }
   ],
   "source": [
    "print('emergency:', calculate_confidence_interval(emergency , 'morbidity_sum'))\n",
    "print('elective:', calculate_confidence_interval(elective , 'morbidity_sum'))"
   ]
  },
  {
   "cell_type": "code",
   "execution_count": 76,
   "metadata": {},
   "outputs": [
    {
     "data": {
      "image/png": "[encoded data removed]",
      "text/plain": [
       "<Figure size 432x288 with 1 Axes>"
      ]
     },
     "metadata": {
      "needs_background": "light"
     },
     "output_type": "display_data"
    }
   ],
   "source": [
    "morbidity_sum_df1 = emergency['morbidity_sum'].to_numpy()\n",
    "morbidity_sum_df2 = elective['morbidity_sum'].to_numpy()\n",
    "\n",
    "# Plotting 'morbidity_sum' for df1\n",
    "plt.plot(morbidity_sum_df1, label='Emergency')\n",
    "\n",
    "# Plotting 'morbidity_sum' for df2\n",
    "plt.plot(morbidity_sum_df2, label='Elective')\n",
    "\n",
    "plt.xlabel('Index')  # Replace with appropriate x-axis label\n",
    "plt.ylabel('Morbidity Sum')  # Replace with appropriate y-axis label\n",
    "plt.title('Morbidity Sum Comparison')  # Replace with an appropriate title\n",
    "plt.legend()  # Show legend\n",
    "\n",
    "plt.show()"
   ]
  },
  {
   "cell_type": "markdown",
   "metadata": {},
   "source": [
    "We can see the total morbidity count for emergency patients is on average much higher than elective patients. This is also expected as emergency admits tend to be in more dire conditions than elective admits."
   ]
  },
  {
   "cell_type": "markdown",
   "metadata": {},
   "source": [
    "Now we will look at age groups within the patient cohort"
   ]
  },
  {
   "cell_type": "code",
   "execution_count": 79,
   "metadata": {},
   "outputs": [
    {
     "data": {
      "text/html": [
       "<div>\n",
       "<style scoped>\n",
       "    .dataframe tbody tr th:only-of-type {\n",
       "        vertical-align: middle;\n",
       "    }\n",
       "\n",
       "    .dataframe tbody tr th {\n",
       "        vertical-align: top;\n",
       "    }\n",
       "\n",
       "    .dataframe thead th {\n",
       "        text-align: right;\n",
       "    }\n",
       "</style>\n",
       "<table border=\"1\" class=\"dataframe\">\n",
       "  <thead>\n",
       "    <tr style=\"text-align: right;\">\n",
       "      <th></th>\n",
       "      <th>subject_id</th>\n",
       "      <th>Percent</th>\n",
       "    </tr>\n",
       "    <tr>\n",
       "      <th>age_bracket</th>\n",
       "      <th></th>\n",
       "      <th></th>\n",
       "    </tr>\n",
       "  </thead>\n",
       "  <tbody>\n",
       "    <tr>\n",
       "      <th>1</th>\n",
       "      <td>1136</td>\n",
       "      <td>3.05</td>\n",
       "    </tr>\n",
       "    <tr>\n",
       "      <th>2</th>\n",
       "      <td>4302</td>\n",
       "      <td>11.54</td>\n",
       "    </tr>\n",
       "    <tr>\n",
       "      <th>3</th>\n",
       "      <td>12310</td>\n",
       "      <td>33.02</td>\n",
       "    </tr>\n",
       "    <tr>\n",
       "      <th>4</th>\n",
       "      <td>15219</td>\n",
       "      <td>40.82</td>\n",
       "    </tr>\n",
       "    <tr>\n",
       "      <th>5</th>\n",
       "      <td>4317</td>\n",
       "      <td>11.58</td>\n",
       "    </tr>\n",
       "  </tbody>\n",
       "</table>\n",
       "</div>"
      ],
      "text/plain": [
       "             subject_id  Percent\n",
       "age_bracket                     \n",
       "1                  1136     3.05\n",
       "2                  4302    11.54\n",
       "3                 12310    33.02\n",
       "4                 15219    40.82\n",
       "5                  4317    11.58"
      ]
     },
     "execution_count": 79,
     "metadata": {},
     "output_type": "execute_result"
    }
   ],
   "source": [
    "subtable_2 = df.groupby('age_bracket').count().drop(columns={'hadm_id', 'rounded_age', 'admission_type_encoded',\n",
    "       'congestive_heart_failure', 'cardiac_arrhythmias',\n",
    "       'valvular_disease', 'pulmonary_circulation', 'peripheral_vascular',\n",
    "       'hypertension', 'paralysis', 'other_neurological',\n",
    "       'chronic_pulmonary', 'diabetes_uncomplicated',\n",
    "       'diabetes_complicated', 'hypothyroidism', 'renal_failure',\n",
    "       'liver_disease', 'peptic_ulcer', 'aids', 'lymphoma',\n",
    "       'metastatic_cancer', 'solid_tumor', 'rheumatoid_arthritis',\n",
    "       'coagulopathy', 'obesity', 'weight_loss', 'fluid_electrolyte',\n",
    "       'blood_loss_anemia', 'deficiency_anemias', 'alcohol_abuse',\n",
    "       'drug_abuse', 'psychoses', 'depression', 'morbidity_sum'}, axis=1)\n",
    "\n",
    "subtable_2['Percent'] = round((subtable_2.subject_id/df.shape[0])*100, 2)\n",
    "subtable_2"
   ]
  },
  {
   "cell_type": "markdown",
   "metadata": {},
   "source": [
    "The majority of patients fall into the 3rd and 4th age groups, indicating that most of the patients are in the 45-85 age range. "
   ]
  },
  {
   "cell_type": "markdown",
   "metadata": {},
   "source": [
    "Now we will look at total morbidity counts within age groups"
   ]
  },
  {
   "cell_type": "code",
   "execution_count": 80,
   "metadata": {},
   "outputs": [
    {
     "name": "stdout",
     "output_type": "stream",
     "text": [
      "16-25: (2.272562022123113, 2.572508400412098)\n",
      "25-45: (4.084116780538734, 4.292452257118169)\n",
      "45-65: (5.763946060600877, 5.899741997888156)\n",
      "65-85: (7.016812853702938, 7.141541834515736)\n",
      "85+: (7.509680867626887, 7.738871367721735)\n"
     ]
    }
   ],
   "source": [
    "print('16-25:', calculate_confidence_interval(age_1 , 'morbidity_sum'))\n",
    "print('25-45:', calculate_confidence_interval(age_2 , 'morbidity_sum'))\n",
    "print('45-65:', calculate_confidence_interval(age_3 , 'morbidity_sum'))\n",
    "print('65-85:', calculate_confidence_interval(age_4 , 'morbidity_sum'))\n",
    "print('85+:', calculate_confidence_interval(age_5 , 'morbidity_sum'))"
   ]
  },
  {
   "cell_type": "code",
   "execution_count": 81,
   "metadata": {},
   "outputs": [
    {
     "data": {
      "image/png": "[encoded data removed]",
      "text/plain": [
       "<Figure size 432x288 with 1 Axes>"
      ]
     },
     "metadata": {
      "needs_background": "light"
     },
     "output_type": "display_data"
    }
   ],
   "source": [
    "# Extracting 'morbidity_sum' median for each DataFrame\n",
    "median_df1 = age_1['morbidity_sum'].median()\n",
    "median_df2 = age_2['morbidity_sum'].median()\n",
    "median_df3 = age_3['morbidity_sum'].median()\n",
    "median_df4 = age_4['morbidity_sum'].median()\n",
    "median_df5 = age_5['morbidity_sum'].median()\n",
    "\n",
    "# Creating a list of medians and corresponding labels\n",
    "medians = [median_df1, median_df2, median_df3, median_df4, median_df5]\n",
    "labels = ['16-25', '25-45', '45-65', '65-85', '85+']\n",
    "\n",
    "# Plotting medians for each table\n",
    "plt.bar(labels, medians, color='skyblue')\n",
    "plt.xlabel('Tables')\n",
    "plt.ylabel('Median Morbidity Sum')\n",
    "plt.title('Median Morbidity Sum Comparison')\n",
    "plt.xticks(rotation=45)  # Rotate x-axis labels for better readability\n",
    "plt.show()"
   ]
  },
  {
   "cell_type": "markdown",
   "metadata": {},
   "source": [
    "It is clear that the age group with the highest morbidity count is 85+, followed by the 45-85 age groups. Overall we can see that there are associations between age, admission type, and morbidity composition that lend to our analysis. "
   ]
  }
 ],
 "metadata": {
  "interpreter": {
   "hash": "aee8b7b246df8f9039afb4144a1f6fd8d2ca17a180786b69acc140d282b71a49"
  },
  "kernelspec": {
   "display_name": "Python 3.8.5 64-bit",
   "language": "python",
   "name": "python3"
  },
  "language_info": {
   "codemirror_mode": {
    "name": "ipython",
    "version": 3
   },
   "file_extension": ".py",
   "mimetype": "text/x-python",
   "name": "python",
   "nbconvert_exporter": "python",
   "pygments_lexer": "ipython3",
   "version": "3.9.12"
  },
  "orig_nbformat": 4
 },
 "nbformat": 4,
 "nbformat_minor": 2
}
